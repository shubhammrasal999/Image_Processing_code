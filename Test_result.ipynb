{
 "cells": [
  {
   "cell_type": "code",
   "execution_count": 7,
   "id": "3e56fb73",
   "metadata": {},
   "outputs": [
    {
     "name": "stdout",
     "output_type": "stream",
     "text": [
      "Total white pixels: 23157\n"
     ]
    }
   ],
   "source": [
    "import cv2\n",
    "import os\n",
    "import numpy as np\n",
    "from concurrent.futures import ThreadPoolExecutor\n",
    "\n",
    "def imgdir(base, image_files=[]):\n",
    "    for img in os.listdir(base):\n",
    "        image_file = os.path.join(base, img)\n",
    "        image_files.append(image_file)\n",
    "    return image_files\n",
    "\n",
    "def process_image(filename, output_dir):\n",
    "    \n",
    "    img = cv2.imread(filename)  # Read the image\n",
    "\n",
    "    # Create a binary mask for white pixels (all RGB channels > 200)\n",
    "    mask = np.all(img > 200, axis=2).astype(np.uint8) * 255\n",
    "\n",
    "    # Construct the output file path\n",
    "    output_filename = os.path.join(\n",
    "        output_dir, os.path.basename(filename).replace('.jpg', '.png')\n",
    "    )\n",
    "\n",
    "    # Save the mask in the output directory\n",
    "    cv2.imwrite(output_filename, mask)\n",
    "    \n",
    "    return np.sum(mask > 200)  # Return the count of white pixels\n",
    "\n",
    "def main(base, output_dir):\n",
    "    # Ensure the output directory exists\n",
    "    os.makedirs(output_dir, exist_ok=True)\n",
    "\n",
    "    # Get all image file paths from the base directory\n",
    "    image_files = imgdir(base)\n",
    "\n",
    "    # Process images in parallel using ThreadPoolExecutor\n",
    "    with ThreadPoolExecutor() as executor:\n",
    "        results = list(executor.map(lambda f: process_image(f, output_dir), image_files))\n",
    "\n",
    "    # Compute the total white pixels across all images\n",
    "    total_white_pixels = sum(results)\n",
    "    return total_white_pixels\n",
    "\n",
    "# Specify the input and output directories\n",
    "base = r\"D:\\Test_result\\data\"\n",
    "output_dir = r\"D:\\Test_result\\masks\"\n",
    "\n",
    "# Run the main function\n",
    "total_pixels = main(base, output_dir)\n",
    "print(f\"Total white pixels: {total_pixels}\")\n"
   ]
  },
  {
   "cell_type": "code",
   "execution_count": null,
   "id": "fe9b76c4",
   "metadata": {},
   "outputs": [],
   "source": []
  }
 ],
 "metadata": {
  "kernelspec": {
   "display_name": "Python 3 (ipykernel)",
   "language": "python",
   "name": "python3"
  },
  "language_info": {
   "codemirror_mode": {
    "name": "ipython",
    "version": 3
   },
   "file_extension": ".py",
   "mimetype": "text/x-python",
   "name": "python",
   "nbconvert_exporter": "python",
   "pygments_lexer": "ipython3",
   "version": "3.10.6"
  }
 },
 "nbformat": 4,
 "nbformat_minor": 5
}
